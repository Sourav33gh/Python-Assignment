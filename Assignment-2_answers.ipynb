{
 "cells": [
  {
   "cell_type": "markdown",
   "id": "3f3f10d1-7855-4ead-bade-37f794786ef4",
   "metadata": {},
   "source": [
    "# Assignment-2"
   ]
  },
  {
   "cell_type": "markdown",
   "id": "2acc248e-b050-4119-9a4a-739bb90cacd0",
   "metadata": {},
   "source": [
    "# 1."
   ]
  },
  {
   "cell_type": "code",
   "execution_count": null,
   "id": "5de09b5e-9582-4b53-a6a8-90d85319ec6d",
   "metadata": {},
   "outputs": [],
   "source": [
    "The Boolean data type has two values: 'true' and 'false'. In programming languages, these values are typically represented as keywords or literals.\n",
    "\n",
    "In many programming languages, including Python, JavaScript, Java, and C++, the values are represented as:\n",
    "\n",
    "*'true' for the true value\n",
    "*'false' for the false value\n",
    "\n",
    "\n",
    "\n",
    "\n"
   ]
  },
  {
   "cell_type": "markdown",
   "id": "b4257f72-e787-4ebc-bc38-48ca009c49e9",
   "metadata": {},
   "source": [
    "# 2."
   ]
  },
  {
   "cell_type": "code",
   "execution_count": null,
   "id": "40406678-17d8-4c57-9fd2-6c3d9b6c4089",
   "metadata": {},
   "outputs": [],
   "source": [
    "The three different types of Boolean operators are:\n",
    "\n",
    "1.AND: This operator returns true if and only if both operands are true. In many programming languages, it is represented by &&.\n",
    "\n",
    "2.OR: This operator returns true if at least one of the operands is true. In many programming languages, it is represented by ||.\n",
    "\n",
    "3.NOT: This operator negates the value of its operand, i.e., if the operand is true, NOT returns false, and if the operand is false, NOT returns true. \n",
    "In many programming languages, it is represented by !."
   ]
  },
  {
   "cell_type": "markdown",
   "id": "0f510254-54df-46cd-9544-0400ff27c03a",
   "metadata": {},
   "source": [
    "# 3. Truth tables for each Boolean operator"
   ]
  },
  {
   "cell_type": "code",
   "execution_count": null,
   "id": "4f2153a7-c119-4835-811a-4177a5d387c7",
   "metadata": {},
   "outputs": [],
   "source": [
    "Here are the truth tables for each Boolean operator:\n",
    "\n",
    "AND (&&):\n",
    "\n",
    "A\t     B\t    A && B\n",
    "false\tfalse\tfalse\n",
    "false\ttrue\tfalse\n",
    "true\tfalse\tfalse\n",
    "true\ttrue\ttrue\n",
    "\n",
    "OR (||):\n",
    "\n",
    "A\t      B\t     A || B\n",
    "false\tfalse\tfalse\n",
    "false\ttrue\ttrue\n",
    "true\tfalse\ttrue\n",
    "true\ttrue\ttrue\n",
    "\n",
    "NOT (!):\n",
    "\n",
    "A\t     !A\n",
    "false\ttrue\n",
    "true\tfalse\n",
    "\n",
    "\n",
    "\n",
    "\n"
   ]
  },
  {
   "cell_type": "markdown",
   "id": "36bc2c42-ee84-40a4-bbbd-2a78918146e7",
   "metadata": {},
   "source": [
    "# 4."
   ]
  },
  {
   "cell_type": "code",
   "execution_count": null,
   "id": "7e1fabb5-0f6a-4ec3-a9a8-b03684519663",
   "metadata": {},
   "outputs": [],
   "source": [
    "Here are the values of the given expressions:\n",
    "\n",
    "1.'(5 > 4) and (3 == 5)':\n",
    "\n",
    "  (5 > 4) evaluates to True\n",
    "  (3 == 5) evaluates to False\n",
    "   True and False evaluates to False\n",
    "\n",
    "2.'not (5 > 4)':\n",
    "\n",
    "   (5 > 4) evaluates to True\n",
    "    not True evaluates to False\n",
    "\n",
    "3.'(5 > 4) or (3 == 5)':\n",
    "\n",
    "   (5 > 4) evaluates to True\n",
    "   (3 == 5) evaluates to False\n",
    "    True or False evaluates to True\n",
    "\n",
    "4.'not ((5 > 4) or (3 == 5))':\n",
    "\n",
    "  (5 > 4) evaluates to True\n",
    "  (3 == 5) evaluates to False\n",
    "   (True or False) evaluates to True\n",
    "    not True evaluates to False\n",
    "\n",
    "5.'(True and True) and (True == False)':\n",
    "\n",
    "   (True and True) evaluates to True\n",
    "   (True == False) evaluates to False\n",
    "   True and False evaluates to False\n",
    "\n",
    "6.'(not False) or (not True)':\n",
    "\n",
    "   not False evaluates to True\n",
    "   not True evaluates to False\n",
    "   True or False evaluates to True\n",
    "\n",
    "\n",
    "\n",
    "\n"
   ]
  },
  {
   "cell_type": "markdown",
   "id": "fa46fd29-b097-4423-b520-fbda42df6a6e",
   "metadata": {},
   "source": [
    "# 5. Six Comparison Operators in Python:"
   ]
  },
  {
   "cell_type": "code",
   "execution_count": null,
   "id": "5fb56950-c29e-4185-a248-ad8ebe85e109",
   "metadata": {},
   "outputs": [],
   "source": [
    "In Python, there are six comparison operators:\n",
    "\n",
    "1.Equal to: ==\n",
    "\n",
    "Checks if two operands are equal.\n",
    "\n",
    "2.Not equal to: !=\n",
    "\n",
    "Checks if two operands are not equal.\n",
    "\n",
    "3.Greater than: >\n",
    "\n",
    "Checks if the left operand is greater than the right operand.\n",
    "\n",
    "4.Less than: <\n",
    "\n",
    "Checks if the left operand is less than the right operand.\n",
    "\n",
    "5.Greater than or equal to: >=\n",
    "\n",
    "Checks if the left operand is greater than or equal to the right operand.\n",
    "\n",
    "6.Less than or equal to: <=\n",
    "\n",
    "Checks if the left operand is less than or equal to the right operand.\n",
    "\n",
    "These operators are often used in conditional statements and loops to control the flow of the program based on certain conditions.\n",
    "\n",
    "\n",
    "\n",
    "\n",
    "\n"
   ]
  },
  {
   "cell_type": "markdown",
   "id": "9b157b70-90f0-45cf-a78f-b2f8f9352994",
   "metadata": {},
   "source": [
    "# 6. the difference between the equal to and assignment operators in python:"
   ]
  },
  {
   "cell_type": "code",
   "execution_count": null,
   "id": "f320e3c8-88ee-42ae-acab-5251e5abb919",
   "metadata": {},
   "outputs": [],
   "source": [
    "\n",
    "In Python, the equal to operator is represented by ==, and it is used to compare whether two values are equal.\n",
    "On the other hand, the assignment operator is represented by = and is used to assign a value to a variable.\n",
    "\n",
    "Here's how you can differentiate between the two:\n",
    "\n",
    "Equal to operator (==):\n",
    "\n",
    "This operator is used in conditional statements, such as if, elif, while, etc., to compare two values.\n",
    "It returns True if the values on both sides are equal, and False otherwise.\n",
    "Example: if x == 5: checks if the value of variable x is equal to 5.\n",
    "Assignment operator (=):\n",
    "\n",
    "This operator is used to assign a value to a variable.\n",
    "It does not compare values; instead, it assigns the value on the right side to the variable on the left side.\n",
    "Example: x = 5 assigns the value 5 to the variable x.\n"
   ]
  },
  {
   "cell_type": "markdown",
   "id": "e2574493-6741-4fab-8886-7c221ca0942f",
   "metadata": {},
   "source": [
    "# An example demonstrating the difference and when we might use each:"
   ]
  },
  {
   "cell_type": "code",
   "execution_count": null,
   "id": "e8bd44e1-3801-46a6-b981-e2cb68caba4e",
   "metadata": {},
   "outputs": [],
   "source": [
    "Here's an example demonstrating the difference and when we might use each:\n",
    "\n",
    "# Example of equal to operator\n",
    "x = 5\n",
    "if x == 5:\n",
    "    print(\"x is equal to 5\")\n",
    "else:\n",
    "    print(\"x is not equal to 5\")\n",
    "\n",
    "# Example of assignment operator\n",
    "x = 10\n",
    "y = 5\n",
    "\n",
    "# Swap the values of x and y using a temporary variable\n",
    "temp = x\n",
    "x = y\n",
    "y = temp\n",
    "\n",
    "print(\"After swapping:\")\n",
    "print(\"x =\", x)\n",
    "print(\"y =\", y)\n",
    "In this example:\n",
    "\n",
    "The equal to operator (==) is used to compare the value of x with 5.\n",
    "The assignment operator (=) is used to assign values to variables x and y, and also in the swapping process to assign temporary values."
   ]
  },
  {
   "cell_type": "markdown",
   "id": "8a12e71a-276b-4e95-a5e0-dbed4717de67",
   "metadata": {},
   "source": [
    "# 7.Identify the three blocks in this code:"
   ]
  },
  {
   "cell_type": "code",
   "execution_count": null,
   "id": "de15ed8a-c0d6-4938-a2da-b92f487cf97b",
   "metadata": {},
   "outputs": [],
   "source": [
    "spam = 0\n",
    "if spam == 10:\n",
    "print('eggs')\n",
    "if spam > 5:\n",
    "print('bacon')\n",
    "else:\n",
    "print('ham')\n",
    "print('spam')\n",
    "print('spam')"
   ]
  },
  {
   "cell_type": "code",
   "execution_count": null,
   "id": "0c40e690-e237-4e66-bfaa-24e54d3c2df3",
   "metadata": {},
   "outputs": [],
   "source": [
    "In Python, blocks of code are defined by indentation. Let's identify the three blocks in the provided code:\n",
    "\n",
    "spam = 0\n",
    "if spam == 10: # First block begins here\n",
    "    print('eggs')\n",
    "if spam > 5:   # Second block begins here\n",
    "    print('bacon')\n",
    "else:          # Third block begins here\n",
    "    print('ham')\n",
    "print('spam')\n",
    "print('spam')\n",
    "Here are the three identified blocks:\n",
    "\n",
    "1.First Block:\n",
    "       It starts with the if spam == 10: statement.\n",
    "       Contains only one line of code, which is the print('eggs') statement.\n",
    "\n",
    "2.Second Block:\n",
    "         It starts with the if spam > 5: statement.\n",
    "         Contains only one line of code, which is the print('bacon') statement.\n",
    "\n",
    "3.Third Block:\n",
    "        It starts with the else: statement.\n",
    "        Contains two lines of code, which are print('ham'), print('spam'), and print('spam'). \n",
    "        However, only the print('ham') statement is part of this block because of indentation. The other two print statements are outside this block.\n",
    "\n",
    "\n",
    "\n",
    "\n"
   ]
  },
  {
   "cell_type": "code",
   "execution_count": null,
   "id": "486fe5d6-4f5d-418e-8bef-c4d4e0339649",
   "metadata": {},
   "outputs": [],
   "source": [
    "# 8. Write code that prints Hello if 1 is stored in spam, prints Howdy if 2 is stored in spam, and prints Greetings! if anything else is stored in spam."
   ]
  },
  {
   "cell_type": "code",
   "execution_count": null,
   "id": "3bb80852-ccfa-487d-a293-f244dc6793f2",
   "metadata": {},
   "outputs": [],
   "source": [
    "Here's the Python code to achieve the specified behavior:\n",
    "\n",
    "\n",
    "spam = 1  # You can change the value of spam to test different cases\n",
    "\n",
    "if spam == 1:\n",
    "    print(\"Hello\")\n",
    "elif spam == 2:\n",
    "    print(\"Howdy\")\n",
    "else:\n",
    "    print(\"Greetings!\")\n",
    "This code checks the value stored in the variable spam and prints different messages based on the value:\n",
    "\n",
    "    If spam is equal to 1, it prints \"Hello\".\n",
    "    If spam is equal to 2, it prints \"Howdy\".\n",
    "    Otherwise, it prints \"Greetings!\" for any other value stored in 'spam'.\n",
    "\n",
    "\n",
    "\n",
    "\n"
   ]
  },
  {
   "cell_type": "code",
   "execution_count": null,
   "id": "ad0cb77f-6302-463d-82be-44351f5bfba7",
   "metadata": {},
   "outputs": [],
   "source": [
    "# 9.If your programme is stuck in an endless loop, what keys you’ll press?"
   ]
  },
  {
   "cell_type": "code",
   "execution_count": null,
   "id": "4769cf2b-0ead-4f2b-87be-2ccdcf267142",
   "metadata": {},
   "outputs": [],
   "source": [
    "If your program is stuck in an endless loop, you can press Ctrl + C (holding down the Control key and pressing the C key simultaneously)\n",
    "on your keyboard to interrupt the execution of the program.\n",
    "\n",
    "In most programming environments or terminals, Ctrl + C is the keyboard shortcut used to send an interrupt signal to the running process,\n",
    "which typically terminates the program and returns control to the shell or command line interface. \n",
    "This action can break the loop and stop the execution of the program."
   ]
  },
  {
   "cell_type": "markdown",
   "id": "1d96e3f7-eb76-408a-8b4f-22e9d7154f95",
   "metadata": {},
   "source": [
    "# 10. the difference between break and continue:"
   ]
  },
  {
   "cell_type": "code",
   "execution_count": null,
   "id": "de2e62b1-7a81-4f68-bef4-5b1dc2121d96",
   "metadata": {},
   "outputs": [],
   "source": [
    "\n",
    "In Python, both break and continue are flow control statements used in loops, but they serve different purposes:\n",
    "\n",
    "break statement:\n",
    "\n",
    "The break statement is used to exit or break out of the loop prematurely.\n",
    "When the break statement is encountered inside a loop, the loop is terminated, \n",
    "and the program control moves to the next statement immediately after the loop.\n",
    "It is commonly used to terminate a loop when a certain condition is met, allowing you to exit the loop early.\n",
    "\n",
    "Example:\n",
    "\n",
    "for i in range(5):\n",
    "    if i == 3:\n",
    "        break\n",
    "    print(i)\n",
    "Output:\n",
    "\n",
    "0\n",
    "1\n",
    "2\n",
    "In this example, the loop stops when i becomes 3, and the program control moves to the next statement after the loop.\n",
    "continue statement:\n",
    "\n",
    "The continue statement is used to skip the rest of the code inside the loop for the current iteration and proceed to the next iteration of the loop.\n",
    "When the continue statement is encountered inside a loop, the remaining statements inside the loop for that iteration are skipped, \n",
    "    and the loop proceeds to the next iteration.\n",
    "It is commonly used to skip specific iterations of a loop based on certain conditions without terminating the loop entirely.\n",
    "    \n",
    "Example:\n",
    "    \n",
    "for i in range(5):\n",
    "    if i == 2:\n",
    "        continue\n",
    "    print(i)\n",
    "Output:\n",
    "0\n",
    "1\n",
    "3\n",
    "4\n",
    "In this example, the value 2 is skipped, and the loop continues to the next iteration without executing the print statement for that value.\n",
    "In summary, break is used to exit the loop prematurely, while continue is used to skip the rest of the code inside the loop\n",
    "        for the current iteration and proceed to the next iteration.\n",
    "\n",
    "\n",
    "\n",
    "\n"
   ]
  }
 ],
 "metadata": {
  "kernelspec": {
   "display_name": "Python 3 (ipykernel)",
   "language": "python",
   "name": "python3"
  },
  "language_info": {
   "codemirror_mode": {
    "name": "ipython",
    "version": 3
   },
   "file_extension": ".py",
   "mimetype": "text/x-python",
   "name": "python",
   "nbconvert_exporter": "python",
   "pygments_lexer": "ipython3",
   "version": "3.11.5"
  }
 },
 "nbformat": 4,
 "nbformat_minor": 5
}
