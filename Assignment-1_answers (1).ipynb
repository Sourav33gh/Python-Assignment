{
 "cells": [
  {
   "cell_type": "markdown",
   "id": "5ac40943-9f62-4c0c-866e-ad6017828f40",
   "metadata": {},
   "source": [
    "#                                                    Assignment-1"
   ]
  },
  {
   "cell_type": "markdown",
   "id": "d90c29aa-2c75-4c12-a7b5-17cda578eebb",
   "metadata": {},
   "source": [
    "# 1."
   ]
  },
  {
   "cell_type": "raw",
   "id": "19f2ab73-6fbc-4b91-b95a-5003902e78e1",
   "metadata": {},
   "source": [
    "                                                  \n",
    "\n",
    "     * = expression\n",
    "   'hello'= value\n",
    "    -87.8 =  value\n",
    "    -    = expression\n",
    "    /    = expression\n",
    "    +    = expression\n",
    "    6    = value"
   ]
  },
  {
   "cell_type": "markdown",
   "id": "4b3655e0-ad81-4fb2-9dac-23e9978cb3a3",
   "metadata": {},
   "source": [
    "# 2. Differences between string and variable:"
   ]
  },
  {
   "cell_type": "raw",
   "id": "8c6e11c4-d95c-4246-8b1f-bf756ed62a1b",
   "metadata": {},
   "source": [
    "\n",
    "\n",
    "    String:\n",
    "         * A string is a sequence of characters enclosed within either single('') or double(\" \") or triple(\"\"\" \"\"') quotation marks.\n",
    "    Variable:\n",
    "         * A variable is a name that refers to a value stored in memory.\n",
    "\n",
    "    String:\n",
    "         * Strings are immutable,meaning once they are created, their value cannot be changed.\n",
    "    Variable:\n",
    "         * Variables are mutable, meaning their value can be changed during the execution of the program.\n",
    "        \n",
    "    String:\n",
    "         * Strings can hold letters,numbers,and symbols.\n",
    "    Variable:\n",
    "         * Variables can hold different types of data, including strings,numbers,lists,dictionaries,etc.\n",
    "\n",
    "    String:\n",
    "         * Example: s= \"Hello,iNeuron!\"\n",
    "    Variable:\n",
    "         * Example: 'x = 5' assigns the integer value 5 to the variable 'x'.\n",
    "        "
   ]
  },
  {
   "cell_type": "markdown",
   "id": "3dc06b94-bd3e-42b5-8ba7-a7e75eaf0ea2",
   "metadata": {},
   "source": [
    "# 3. Three different data types are:"
   ]
  },
  {
   "cell_type": "raw",
   "id": "0b2f5830-4f3f-429e-82ff-f84b366f4577",
   "metadata": {},
   "source": [
    "\n",
    "\n",
    "    (a) LIst:\n",
    "\n",
    "        Definition:\n",
    "                   A list in python is an ordered collection(also known as sequence) of items.\n",
    "\n",
    "        Mutable:\n",
    "                Lists are mutable.Which means their elements can be changed(added,modified,or deleted)after they are created.\n",
    "                    \n",
    "        Creation:\n",
    "                All list is created by placing items(elements) inside square brackets[],separated by commas(,).\n",
    "                e.g. l=[4, 6, 7, 6]\n",
    "\n",
    "        Heterogeneous Elements:\n",
    "            A list can contain elements of different types: integers,floats,strings,and even other lists, tuples,dictionaries, boolean,or complex                    number.\n",
    "                e.g. l=[10, 'sourav', 3.14, True, [1, 2, 3], {'a': 1, 'b': 2},(4, 5, 6, 8)]\n",
    "\n",
    "    (b) Tuple:\n",
    "            \n",
    "        Definition:\n",
    "                  A tuple in Python is similar to a list.It is an ordered collection of items.\n",
    "\n",
    "        Immutable:\n",
    "                 The major difference from lists is that tuples are immutable, which means their elements cannot be changed(no addition,modification,or \n",
    "                 deletion) after they are created.\n",
    "                     \n",
    "        Creation:\n",
    "                A tuple is created by placing items inside parentheses(),separated by commas(,).\n",
    "                e.g. t=(2,3,4)\n",
    "\n",
    "        Heterogeneous Element:\n",
    "                Like lists, a tuple can also contain elements of different types:integers,floats,strings,and even other tuples or lists.\n",
    "                e.g. t=(10, 'sourav', 3.14, True, [1, 2, 3], {'a': 1, 'b': 2})\n",
    "\n",
    "    (c) Dictionaries:\n",
    "\n",
    "        Definition:\n",
    "                  A dictionary in Python is an unordered collection of items.Each item stored in a dictionary has a key and value,making it a key-value\n",
    "                  pair.\n",
    "\n",
    "        Mutable:\n",
    "               Dictonaries are mutable, which means you can change their elements.You can add,modify,or delete key-value pair from a dictionary.\n",
    "\n",
    "        Creation:\n",
    "                A dictionary is created by placing items (key-value pairs) inside curly braces{}, separated by commas(,).Each item is a pair made up of \n",
    "                a key and value, separated by a colon(:).\n",
    "                e.g. d={'name':'sourav','contact':'sourav448@'}\n",
    "\n",
    "        Heterogeneous Elements:\n",
    "        Keys and values in a dictionary can be of any type.Values can be heterogeneous, but keys should be of an immutable type(like                            string,number,tuple).\n",
    "                 e.g. d={ '33': 10,'sourav': 'hello','88.9': 3.14, 'False': True,[5, 6, 7]: [1, 2, 3],(7, 8, 9): (4, 5, 6)}"
   ]
  },
  {
   "cell_type": "markdown",
   "id": "4b76ecda-8234-4d6d-a2f1-bb627514b5bd",
   "metadata": {},
   "source": [
    "# 4.     Expression:"
   ]
  },
  {
   "cell_type": "raw",
   "id": "f6fc45c3-5ff7-4a91-a23f-e964ee325acc",
   "metadata": {},
   "source": [
    "\n",
    "\n",
    "       In Python, an expression is a combination of values, variables, operators, and function calls that yields a result. Expressions can be as simple        as a single variable or value, or they can be complex with multiple components.\n",
    " \n",
    "       Here are some examples of expressions in Python:\n",
    "  \n",
    "\n",
    "    \n",
    "      Arithmetic expressions:\n",
    "       x = 5\n",
    "       y = 10\n",
    "       z = x + y * 2  # z is an expression composed of variables, arithmetic operators, and constants\n",
    "      \n",
    "      Function call expressions:\n",
    "      result = len(\"hello\")  # result is an expression involving a function call\n",
    "\n",
    "      Conditional expressions (ternary operator):\n",
    "      x = 10\n",
    "      y = 20\n",
    "      max_value = x if x > y else y  # max_value is an expression with a conditional operator\n",
    "\n",
    "      List comprehension:\n",
    "      squares = [x ** 2 for x in range(5)]  # squares is an expression using list comprehension\n",
    "\n",
    "      Attribute access expressions:\n",
    "      import math\n",
    "      pi_value = math.pi  # pi_value is an expression accessing an attribute of a module\n",
    "\n",
    "      Boolean expressions:\n",
    "       x = 5\n",
    "       y = 10\n",
    "       is_greater = x > y  # is_greater is an expression evaluating a boolean condition\n",
    "      In Python, expressions are evaluated and return a value. They can be used in assignments, function arguments, control structures, and more.\n"
   ]
  },
  {
   "cell_type": "markdown",
   "id": "de330d08-7dad-42f3-ae3f-daa30c17f65e",
   "metadata": {},
   "source": [
    "# 5.    Difference between Expression and Statement:"
   ]
  },
  {
   "cell_type": "raw",
   "id": "75563142-f62a-4552-9329-c8ce1f9e4f02",
   "metadata": {},
   "source": [
    "\n",
    "\n",
    "      \n",
    "      In Python, expressions and statements are two fundamental concepts, but they serve different purposes and have distinct characteristics:\n",
    "\n",
    "\n",
    "          * Expressions evaluate to a value, while statements perform actions.\n",
    "\n",
    "          * Expressions can be used within statements, but statements cannot be used within expressions.\n",
    "\n",
    "          * Expressions can be composed of multiple smaller expressions, while statements are standalone constructs.\n",
    "\n",
    "          * Expressions are often used for computation or value generation, while statements control the flow and structure of a program.\n",
    "\n",
    "\n",
    "\n"
   ]
  },
  {
   "cell_type": "markdown",
   "id": "d5481230-7873-455a-9824-0aa51f2b262c",
   "metadata": {},
   "source": [
    "# 6.  "
   ]
  },
  {
   "cell_type": "raw",
   "id": "deb12b56-46dd-477e-b72e-c44510683e39",
   "metadata": {},
   "source": [
    "     \n",
    "bacon = 22\n",
    "bacon + 1"
   ]
  },
  {
   "cell_type": "markdown",
   "id": "38a51e67-13a8-4292-86c4-fb060f26574b",
   "metadata": {},
   "source": [
    "# 7."
   ]
  },
  {
   "cell_type": "raw",
   "id": "28a4ba6d-2ae1-41fb-aeda-78b64e33dda4",
   "metadata": {},
   "source": [
    "\n",
    "'spam' + 'spamspam'  \n",
    "'spam' * 3\n",
    "\n",
    "      In Python, if you multiply a string by a number, the string will be repeated (concatenated) the specified number of times. \n",
    "This behavior is a result of Python's operator overloading, where the '*' operator is defined for both numerical multiplication and string repetition."
   ]
  },
  {
   "cell_type": "markdown",
   "id": "2d0cad5c-14d6-4035-9a21-ba6b34bf594e",
   "metadata": {},
   "source": [
    "# 8."
   ]
  },
  {
   "cell_type": "raw",
   "id": "ad1c1a73-93ab-4904-9699-e2cdda0540d9",
   "metadata": {},
   "source": [
    "\n",
    "  Because Variable name cannot start with integer i.e. instead of 100, 'eggs' will be the valid variable name.\n",
    "  "
   ]
  },
  {
   "cell_type": "markdown",
   "id": "d08817b8-ea4a-4c26-9043-706d1be945ad",
   "metadata": {},
   "source": [
    "# 9."
   ]
  },
  {
   "cell_type": "raw",
   "id": "759484d9-5e45-4069-9629-b00afde0519e",
   "metadata": {},
   "source": [
    "\n",
    "\n",
    "     In Python, you can convert values to integers, floating-point numbers, or strings using the following functions:\n",
    "\n",
    "     int(): This function converts a value to an integer. If the value is a floating-point number, it truncates towards zero.\n",
    "     Example:\n",
    "     num_int = int(\"10\")  # Converts string \"10\" to integer 10\n",
    "\n",
    "     float(): This function converts a value to a floating-point number. If the value is an integer, it adds a decimal point.\n",
    "     Example:\n",
    "     num_float = float(\"3.14\")  # Converts string \"3.14\" to float 3.14\n",
    "\n",
    "     str(): This function converts a value to a string. It returns the string representation of the value.\n",
    "     Example:\n",
    "     str_value = str(42)  # Converts integer 42 to string \"42\"\n",
    "     These functions are used extensively for data conversion in Python, allowing you to work with different data types effectively.\n",
    "\n",
    "\n",
    "\n",
    "\n",
    "\n"
   ]
  },
  {
   "cell_type": "markdown",
   "id": "5d00098d-2d3d-490b-9970-46b1cd4926ca",
   "metadata": {},
   "source": [
    "# 10."
   ]
  },
  {
   "cell_type": "raw",
   "id": "a97b8f3a-4892-4d3b-9866-147b2b80be3e",
   "metadata": {},
   "source": [
    "'I have eaten' + 99 + 'burritos.'\n",
    "\n",
    "This expression is a Concatetion operation.If we run this operation it will give an error.Because Concatenation operation should be executed or possible\n",
    "within similar kind of element or data.Here we have got two different data type one is sring and another is integer i.e. concatenation is not possible \n",
    "over here.\n",
    "\n",
    "       If we want to fix the problem then convert each and every element of entire expression into string then run. "
   ]
  },
  {
   "cell_type": "raw",
   "id": "634d1732-9cbf-4630-8378-0cf2e360d6d9",
   "metadata": {},
   "source": [
    "99"
   ]
  },
  {
   "cell_type": "code",
   "execution_count": 15,
   "id": "258e246c-2ef3-46d7-8991-155279feb62e",
   "metadata": {},
   "outputs": [
    {
     "data": {
      "text/plain": [
       "'I have eaten99burritos'"
      ]
     },
     "execution_count": 15,
     "metadata": {},
     "output_type": "execute_result"
    }
   ],
   "source": [
    "'I have eaten' + '99' + 'burritos'\n",
    " \n"
   ]
  },
  {
   "cell_type": "code",
   "execution_count": null,
   "id": "3ef9209f-34a5-49d9-8e7a-1fd8adba9fb7",
   "metadata": {},
   "outputs": [],
   "source": []
  }
 ],
 "metadata": {
  "kernelspec": {
   "display_name": "Python 3 (ipykernel)",
   "language": "python",
   "name": "python3"
  },
  "language_info": {
   "codemirror_mode": {
    "name": "ipython",
    "version": 3
   },
   "file_extension": ".py",
   "mimetype": "text/x-python",
   "name": "python",
   "nbconvert_exporter": "python",
   "pygments_lexer": "ipython3",
   "version": "3.11.5"
  }
 },
 "nbformat": 4,
 "nbformat_minor": 5
}
